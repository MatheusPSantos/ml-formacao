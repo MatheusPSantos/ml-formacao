{
  "nbformat": 4,
  "nbformat_minor": 0,
  "metadata": {
    "colab": {
      "name": "classificacao_roupas.ipynb",
      "provenance": [],
      "collapsed_sections": []
    },
    "kernelspec": {
      "name": "python3",
      "display_name": "Python 3"
    },
    "language_info": {
      "name": "python"
    }
  },
  "cells": [
    {
      "cell_type": "markdown",
      "metadata": {
        "id": "V1j_cGwO7kuF"
      },
      "source": [
        "Imports"
      ]
    },
    {
      "cell_type": "code",
      "metadata": {
        "id": "FaY7f83Ut-b1"
      },
      "source": [
        "import tensorflow\n",
        "from tensorflow import keras\n",
        "from tensorflow.keras.models import load_model\n",
        "#para visuzaliar as imagens usaremos o matplotlib, usaremos pyplot para ver imagens\n",
        "import matplotlib.pyplot as plt\n",
        "import numpy as np\n"
      ],
      "execution_count": 24,
      "outputs": []
    },
    {
      "cell_type": "markdown",
      "metadata": {
        "id": "f5vejHxS7qPN"
      },
      "source": [
        "Carregando o dataset"
      ]
    },
    {
      "cell_type": "code",
      "metadata": {
        "id": "zx-ybuP97YGN"
      },
      "source": [
        "dataset = keras.datasets.fashion_mnist\n"
      ],
      "execution_count": 2,
      "outputs": []
    },
    {
      "cell_type": "markdown",
      "metadata": {
        "id": "9N8KC58q7s0k"
      },
      "source": [
        "Extração dos dados"
      ]
    },
    {
      "cell_type": "code",
      "metadata": {
        "id": "Te6Kh3H97Zut"
      },
      "source": [
        "\n",
        "# extraindo imagens da tupla retornada pelo datasets do keras\n",
        "((imagens_treino, identificacoes_treino), (imagens_teste, identificacoes_teste)) = dataset.load_data()"
      ],
      "execution_count": 3,
      "outputs": []
    },
    {
      "cell_type": "markdown",
      "metadata": {
        "id": "-u7hNSKQ7waY"
      },
      "source": [
        "Exploração dos dados"
      ]
    },
    {
      "cell_type": "code",
      "metadata": {
        "id": "QqUeHsLB7UNH",
        "colab": {
          "base_uri": "https://localhost:8080/"
        },
        "outputId": "75142d2b-3db6-4380-a867-e8ef908e8593"
      },
      "source": [
        "len(imagens_treino)\n",
        "imagens_treino.shape\n",
        "imagens_teste.shape # saber a quantidade e tamanho as imagens\n",
        "len(identificacoes_treino)\n",
        "len(identificacoes_teste)\n",
        "\n",
        "identificacoes_treino.min()\n",
        "identificacoes_treino.max()\n"
      ],
      "execution_count": 4,
      "outputs": [
        {
          "output_type": "execute_result",
          "data": {
            "text/plain": [
              "9"
            ]
          },
          "metadata": {
            "tags": []
          },
          "execution_count": 4
        }
      ]
    },
    {
      "cell_type": "markdown",
      "metadata": {
        "id": "PMWgt76H7ykV"
      },
      "source": [
        "Criando a camada 0"
      ]
    },
    {
      "cell_type": "code",
      "metadata": {
        "id": "mcys87kp7dL2",
        "colab": {
          "base_uri": "https://localhost:8080/",
          "height": 282
        },
        "outputId": "22fbed67-72bf-4ad5-e0e1-5224f845b0cb"
      },
      "source": [
        "total_de_classificacoes = identificacoes_treino.max() - identificacoes_treino.min() + 1\n",
        "nomes_de_classificacoes = ['Camiseta', 'Calça', 'Pullover', 'Vestido', 'Casaco', 'Sandália', 'Camisa', 'Tênis', 'Bolsa', 'Bota']\n",
        "'''\n",
        "plt.imshow(imagens_treino[0]) # visualizando o primeiro item da lista de imagens de treino\n",
        "plt.title(identificacoes_treino[0])\n",
        "\n",
        "for imagem in range(total_de_classificacoes):\n",
        "  plt.subplot(2, 5, imagem+1)\n",
        "  plt.imshow(imagens_treino[imagem])\n",
        "  plt.title(nomes_de_classificacoes[identificacoes_treino[imagem]])\n",
        "'''\n",
        "plt.imshow(imagens_treino[0])\n",
        "plt.colorbar()"
      ],
      "execution_count": 5,
      "outputs": [
        {
          "output_type": "execute_result",
          "data": {
            "text/plain": [
              "<matplotlib.colorbar.Colorbar at 0x7f3c195a2b90>"
            ]
          },
          "metadata": {
            "tags": []
          },
          "execution_count": 5
        },
        {
          "output_type": "display_data",
          "data": {
            "image/png": "[encoded data removed]",
            "text/plain": [
              "<Figure size 432x288 with 2 Axes>"
            ]
          },
          "metadata": {
            "tags": [],
            "needs_background": "light"
          }
        }
      ]
    },
    {
      "cell_type": "markdown",
      "metadata": {
        "id": "DRK0gJbGE8yx"
      },
      "source": [
        "Fazendo uma transformação nas imagens de treino"
      ]
    },
    {
      "cell_type": "code",
      "metadata": {
        "id": "ug5yYSrEE_T3"
      },
      "source": [
        "imagens_treino = imagens_treino/float(255) # normalização"
      ],
      "execution_count": 6,
      "outputs": []
    },
    {
      "cell_type": "code",
      "metadata": {
        "id": "egtsTz4F_lC_"
      },
      "source": [
        "  # criando um modelo dentro de uma camada sequencial\n",
        "  # modelo de duas camadas, camadas 0, 1 e 2\n",
        "  modelo = keras.Sequential([\n",
        "      keras.layers.Flatten(input_shape = (28,28)), # camada 0\n",
        "      keras.layers.Dense(256, activation=tensorflow.nn.relu),\n",
        "      keras.layers.Dropout(0.2), #processamento usando a função relu do tensorflow\n",
        "      keras.layers.Dense(10, activation=tensorflow.nn.softmax) #saida informando o numero da camada de saída e usando a função softmax do tensorflow\n",
        "    ])\n",
        "    "
      ],
      "execution_count": 20,
      "outputs": []
    },
    {
      "cell_type": "markdown",
      "metadata": {
        "id": "JSfAxHcz0-ul"
      },
      "source": [
        "treinando o modelo"
      ]
    },
    {
      "cell_type": "code",
      "metadata": {
        "colab": {
          "base_uri": "https://localhost:8080/"
        },
        "id": "wIr9HO_q1Atk",
        "outputId": "5a9ca2f5-28ba-4c28-a003-878551c010c6"
      },
      "source": [
        "# compilação do modelo\n",
        "modelo.compile(optimizer='adam', loss='sparse_categorical_crossentropy', metrics=['accuracy'])\n",
        "\n",
        "historico = modelo.fit(imagens_treino, identificacoes_treino, epochs=5, validation_split=0.2)"
      ],
      "execution_count": 21,
      "outputs": [
        {
          "output_type": "stream",
          "text": [
            "Epoch 1/5\n",
            "1500/1500 [==============================] - 6s 4ms/step - loss: 0.5259 - accuracy: 0.8135 - val_loss: 0.4251 - val_accuracy: 0.8407\n",
            "Epoch 2/5\n",
            "1500/1500 [==============================] - 6s 4ms/step - loss: 0.3977 - accuracy: 0.8541 - val_loss: 0.3924 - val_accuracy: 0.8568\n",
            "Epoch 3/5\n",
            "1500/1500 [==============================] - 6s 4ms/step - loss: 0.3610 - accuracy: 0.8699 - val_loss: 0.3543 - val_accuracy: 0.8682\n",
            "Epoch 4/5\n",
            "1500/1500 [==============================] - 6s 4ms/step - loss: 0.3385 - accuracy: 0.8757 - val_loss: 0.3422 - val_accuracy: 0.8744\n",
            "Epoch 5/5\n",
            "1500/1500 [==============================] - 6s 4ms/step - loss: 0.3229 - accuracy: 0.8803 - val_loss: 0.3223 - val_accuracy: 0.8828\n"
          ],
          "name": "stdout"
        }
      ]
    },
    {
      "cell_type": "code",
      "metadata": {
        "id": "rSRQ-lsmFAdE"
      },
      "source": [
        "modelo.save('modelo.h5') # salvando o modelo\n",
        "modelo_salvo = load_model('modelo.h5')"
      ],
      "execution_count": 26,
      "outputs": []
    },
    {
      "cell_type": "code",
      "metadata": {
        "colab": {
          "base_uri": "https://localhost:8080/",
          "height": 313
        },
        "id": "gGiALFrI8BgA",
        "outputId": "9562e089-3e53-407d-a9d4-73b448ba8866"
      },
      "source": [
        "historico\n",
        "historico.history\n",
        "historico.history['accuracy']\n",
        "\n",
        "plt.plot(historico.history['accuracy'])\n",
        "plt.plot(historico.history['val_accuracy'])\n",
        "plt.title('Acurácia por épocas')\n",
        "plt.xlabel('épocas')\n",
        "plt.ylabel('acurácia')\n",
        "plt.legend(['treino', 'validação'])\n",
        "\n",
        "#overfiting"
      ],
      "execution_count": 16,
      "outputs": [
        {
          "output_type": "execute_result",
          "data": {
            "text/plain": [
              "<matplotlib.legend.Legend at 0x7f3c0cccafd0>"
            ]
          },
          "metadata": {
            "tags": []
          },
          "execution_count": 16
        },
        {
          "output_type": "display_data",
          "data": {
            "image/png": "[encoded data removed]",
            "text/plain": [
              "<Figure size 432x288 with 1 Axes>"
            ]
          },
          "metadata": {
            "tags": [],
            "needs_background": "light"
          }
        }
      ]
    },
    {
      "cell_type": "code",
      "metadata": {
        "colab": {
          "base_uri": "https://localhost:8080/",
          "height": 313
        },
        "id": "Bl3X6RaBAByL",
        "outputId": "f479cf6a-abb7-4604-bbcc-aa4984f34fe5"
      },
      "source": [
        "# montando outro gráfico\n",
        "plt.plot(historico.history['loss'])\n",
        "plt.plot(historico.history['val_loss'])\n",
        "plt.title('Perdas por épocas')\n",
        "plt.xlabel('épocas')\n",
        "plt.ylabel('perda')\n",
        "plt.legend(['treino', 'avaliação'])\n"
      ],
      "execution_count": 17,
      "outputs": [
        {
          "output_type": "execute_result",
          "data": {
            "text/plain": [
              "<matplotlib.legend.Legend at 0x7f3c157f76d0>"
            ]
          },
          "metadata": {
            "tags": []
          },
          "execution_count": 17
        },
        {
          "output_type": "display_data",
          "data": {
            "image/png": "[encoded data removed]",
            "text/plain": [
              "<Figure size 432x288 with 1 Axes>"
            ]
          },
          "metadata": {
            "tags": [],
            "needs_background": "light"
          }
        }
      ]
    },
    {
      "cell_type": "markdown",
      "metadata": {
        "id": "_C40tVu6IuuB"
      },
      "source": [
        "Realizando os testes"
      ]
    },
    {
      "cell_type": "code",
      "metadata": {
        "colab": {
          "base_uri": "https://localhost:8080/"
        },
        "id": "SbMAW8N4IwdB",
        "outputId": "2c2cf072-043f-4515-9560-023fd839bacc"
      },
      "source": [
        "testes = modelo.predict(imagens_teste)\n",
        "#testes[0] # devolve um array com 10 posições float\n",
        "np.argmax(testes[0])\n",
        "print('resultado do teste >>> ', np.argmax(testes[1]))\n",
        "print('número de imagem de teste >>> ', identificacoes_teste[1])\n",
        "\n",
        "# declarando testes com o modelo salvo\n",
        "testes_modelo_salvo = modelo_salvo.predict(imagens_teste)\n",
        "print('resultado do modelo salvo >>> ', np.argmax(testes_modelo_salvo[1]))\n",
        "print('número da imagem de teste >>> ', np.argmax(testes_modelo_salvo[1]))"
      ],
      "execution_count": 27,
      "outputs": [
        {
          "output_type": "stream",
          "text": [
            "resultado do teste >>>  2\n",
            "número de imagem de teste >>>  2\n",
            "resultado do modelo salvo >>>  2\n",
            "número da imagem de teste >>>  2\n"
          ],
          "name": "stdout"
        }
      ]
    },
    {
      "cell_type": "markdown",
      "metadata": {
        "id": "K1tSr8uOJkZx"
      },
      "source": [
        "Checando os acertos"
      ]
    },
    {
      "cell_type": "code",
      "metadata": {
        "colab": {
          "base_uri": "https://localhost:8080/"
        },
        "id": "f3wQ0kJlJl5p",
        "outputId": "161135f4-1868-4fc6-dd10-1583242db255"
      },
      "source": [
        "perda_teste, acuracia_teste = modelo.evaluate(imagens_teste, identificacoes_teste)\n",
        "print(\"perda do teste >>> \", perda_teste)\n",
        "print('acuracia do test >>> ', acuracia_teste)"
      ],
      "execution_count": 11,
      "outputs": [
        {
          "output_type": "stream",
          "text": [
            "313/313 [==============================] - 1s 2ms/step - loss: 57.2339 - accuracy: 0.8582\n",
            "perda do teste >>>  57.233863830566406\n",
            "acuracia do test >>>  0.8582000136375427\n"
          ],
          "name": "stdout"
        }
      ]
    }
  ]
}